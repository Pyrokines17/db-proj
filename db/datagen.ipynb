{
 "cells": [
  {
   "cell_type": "code",
   "execution_count": 13,
   "id": "37da6b6c-a09b-4103-96d1-396fec9b3aa1",
   "metadata": {},
   "outputs": [
    {
     "name": "stdout",
     "output_type": "stream",
     "text": [
      "connected to the database\n"
     ]
    }
   ],
   "source": [
    "import psycopg2\n",
    "\n",
    "conn = psycopg2.connect(\n",
    "    dbname=\"postgres\",\n",
    "    user=\"postgres\",\n",
    "    password=\"wasd1234\",\n",
    "    host=\"localhost\",\n",
    "    port=\"5432\" \n",
    ")\n",
    "\n",
    "cursor = conn.cursor()\n",
    "\n",
    "print(\"connected to the database\")"
   ]
  },
  {
   "cell_type": "code",
   "execution_count": 14,
   "id": "aabe10b6-c346-4ec9-9ca7-ee7a22a4b8f0",
   "metadata": {},
   "outputs": [
    {
     "name": "stdout",
     "output_type": "stream",
     "text": [
      "faker initialized\n"
     ]
    }
   ],
   "source": [
    "from faker import Faker\n",
    "\n",
    "fake = Faker()\n",
    "\n",
    "print(\"faker initialized\")"
   ]
  },
  {
   "cell_type": "code",
   "execution_count": 15,
   "id": "d8ffc968",
   "metadata": {},
   "outputs": [],
   "source": [
    "import random\n",
    "\n",
    "def generate_passport_number():\n",
    "    return ''.join([str(random.randint(0, 9)) for _ in range(20)])\n"
   ]
  },
  {
   "cell_type": "code",
   "execution_count": 16,
   "id": "a022ccb4",
   "metadata": {},
   "outputs": [
    {
     "name": "stdout",
     "output_type": "stream",
     "text": [
      "Error inserting department types: duplicate key value violates unique constraint \"Department_types_name_key\"\n",
      "DETAIL:  Key (name)=(Pilots) already exists.\n",
      "\n",
      "departments inserted\n"
     ]
    }
   ],
   "source": [
    "from psycopg2 import Error\n",
    "\n",
    "department_types = [\"Pilots\", \"Dispatchers\", \"Techniques\", \"Cashiers\", \"Security\", \"Helpdesk\", \"Maintenance\"]\n",
    "\n",
    "try:\n",
    "    for department in department_types:\n",
    "        cursor.execute(\n",
    "            \"\"\"\n",
    "            INSERT INTO \"Department_types\"(name)\n",
    "            VALUES (%s)\n",
    "            \"\"\",\n",
    "            (department,)\n",
    "        )\n",
    "        conn.commit()\n",
    "except (Exception, Error) as e:\n",
    "    print(f\"Error inserting department types: {e}\")\n",
    "    conn.rollback()\n",
    "\n",
    "print(\"departments inserted\")"
   ]
  },
  {
   "cell_type": "code",
   "execution_count": 17,
   "id": "4bf56677",
   "metadata": {},
   "outputs": [
    {
     "name": "stdout",
     "output_type": "stream",
     "text": [
      "Error inserting departments: duplicate key value violates unique constraint \"Departments_name_key\"\n",
      "DETAIL:  Key (name)=(Main Pilots) already exists.\n",
      "\n",
      "departments inserted\n"
     ]
    }
   ],
   "source": [
    "from psycopg2 import Error\n",
    "\n",
    "department_name = [\"Main\", \"Secondary\"]\n",
    "department_types = [\"Pilots\", \"Dispatchers\", \"Techniques\", \"Cashiers\", \"Security\", \"Helpdesk\", \"Maintenance\"]\n",
    "\n",
    "try:\n",
    "    for department in department_name:\n",
    "        for i in range(len(department_types)):\n",
    "            name = department + \" \" + department_types[i]\n",
    "            cursor.execute(\n",
    "                \"\"\"\n",
    "                INSERT INTO \"Departments\"(name, department_type)\n",
    "                VALUES (%s, %s)\n",
    "                \"\"\",\n",
    "                (name, i + 1)\n",
    "            )\n",
    "            conn.commit()\n",
    "except (Exception, Error) as e:\n",
    "    print(f\"Error inserting departments: {e}\")\n",
    "    conn.rollback()\n",
    "\n",
    "print(\"departments inserted\")"
   ]
  },
  {
   "cell_type": "code",
   "execution_count": 18,
   "id": "981f2ce4",
   "metadata": {},
   "outputs": [
    {
     "name": "stdout",
     "output_type": "stream",
     "text": [
      "brigades inserted\n"
     ]
    }
   ],
   "source": [
    "from psycopg2 import Error\n",
    "\n",
    "try:\n",
    "    for i in range(100):\n",
    "        cursor.execute(\n",
    "            \"\"\"\n",
    "            INSERT INTO \"Brigades\"(department_id)\n",
    "            VALUES (%s)\n",
    "            \"\"\",\n",
    "            (i % 14 + 1,)\n",
    "        )\n",
    "        conn.commit()\n",
    "except (Exception, Error) as e:\n",
    "    print(f\"Error inserting brigades: {e}\")\n",
    "    conn.rollback()\n",
    "\n",
    "print(\"brigades inserted\")"
   ]
  },
  {
   "cell_type": "code",
   "execution_count": 19,
   "id": "07d5568d",
   "metadata": {},
   "outputs": [
    {
     "name": "stdout",
     "output_type": "stream",
     "text": [
      "Error inserting positions: duplicate key value violates unique constraint \"Positions_name_key\"\n",
      "DETAIL:  Key (name)=(Pilot) already exists.\n",
      "\n",
      "positions inserted\n"
     ]
    }
   ],
   "source": [
    "from psycopg2 import Error\n",
    "\n",
    "positions = [\"Pilot\", \"Dispatcher\", \"Technician\", \"Cashier\", \"Security\", \"Helpdesk\", \"Maintenance\"]\n",
    "\n",
    "try:\n",
    "    for position in positions:\n",
    "        cursor.execute(\n",
    "            \"\"\"\n",
    "            INSERT INTO \"Positions\"(name)\n",
    "            VALUES (%s)\n",
    "            \"\"\",\n",
    "            (position,)\n",
    "        )\n",
    "        conn.commit()\n",
    "except (Exception, Error) as e:\n",
    "    print(f\"Error inserting positions: {e}\")\n",
    "    conn.rollback()\n",
    "    \n",
    "print(\"positions inserted\")"
   ]
  },
  {
   "cell_type": "code",
   "execution_count": 22,
   "id": "dfba47be",
   "metadata": {},
   "outputs": [
    {
     "name": "stdout",
     "output_type": "stream",
     "text": [
      "department positions inserted\n"
     ]
    }
   ],
   "source": [
    "from psycopg2 import Error\n",
    "\n",
    "try:\n",
    "    for i in range(7):\n",
    "        cursor.execute(\n",
    "            \"\"\"\n",
    "            INSERT INTO \"Department_positions\"(department_id, position_id)\n",
    "            VALUES (%s, %s)\n",
    "            \"\"\",\n",
    "            (i + 1, i + 1)\n",
    "        )\n",
    "        conn.commit()\n",
    "except (Exception, Error) as e:\n",
    "    print(f\"Error inserting department positions: {e}\")\n",
    "    conn.rollback()\n",
    "    \n",
    "print(\"department positions inserted\")"
   ]
  },
  {
   "cell_type": "code",
   "execution_count": 26,
   "id": "3054ba57",
   "metadata": {},
   "outputs": [
    {
     "name": "stdout",
     "output_type": "stream",
     "text": [
      "[(1,), (8,), (15,), (22,), (29,), (36,), (43,), (50,), (57,), (64,), (71,), (78,), (85,), (92,), (99,), (101,), (108,), (115,), (122,), (129,), (136,), (143,), (150,), (157,), (164,), (171,), (178,), (185,), (192,), (199,)]\n",
      "[(2,), (9,), (16,), (23,), (30,), (37,), (44,), (51,), (58,), (65,), (72,), (79,), (86,), (93,), (100,), (102,), (109,), (116,), (123,), (130,), (137,), (144,), (151,), (158,), (165,), (172,), (179,), (186,), (193,), (200,)]\n",
      "[(3,), (10,), (17,), (24,), (31,), (38,), (45,), (52,), (59,), (66,), (73,), (80,), (87,), (94,), (103,), (110,), (117,), (124,), (131,), (138,), (145,), (152,), (159,), (166,), (173,), (180,), (187,), (194,)]\n",
      "[(4,), (11,), (18,), (25,), (32,), (39,), (46,), (53,), (60,), (67,), (74,), (81,), (88,), (95,), (104,), (111,), (118,), (125,), (132,), (139,), (146,), (153,), (160,), (167,), (174,), (181,), (188,), (195,)]\n",
      "[(5,), (12,), (19,), (26,), (33,), (40,), (47,), (54,), (61,), (68,), (75,), (82,), (89,), (96,), (105,), (112,), (119,), (126,), (133,), (140,), (147,), (154,), (161,), (168,), (175,), (182,), (189,), (196,)]\n",
      "[(6,), (13,), (20,), (27,), (34,), (41,), (48,), (55,), (62,), (69,), (76,), (83,), (90,), (97,), (106,), (113,), (120,), (127,), (134,), (141,), (148,), (155,), (162,), (169,), (176,), (183,), (190,), (197,)]\n",
      "[(7,), (14,), (21,), (28,), (35,), (42,), (49,), (56,), (63,), (70,), (77,), (84,), (91,), (98,), (107,), (114,), (121,), (128,), (135,), (142,), (149,), (156,), (163,), (170,), (177,), (184,), (191,), (198,)]\n"
     ]
    }
   ],
   "source": [
    "from psycopg2 import Error\n",
    "\n",
    "ids = []\n",
    "\n",
    "try:\n",
    "    for department_type in range(1, 8): \n",
    "        cursor.execute(\n",
    "            \"\"\"\n",
    "            SELECT b.id\n",
    "            FROM \"Brigades\" b\n",
    "            JOIN \"Departments\" d ON b.department_id = d.id\n",
    "            WHERE d.department_type = %s\n",
    "            \"\"\",\n",
    "            (department_type,)\n",
    "        )\n",
    "        \n",
    "        ids.append(cursor.fetchall())\n",
    "except (Exception, Error) as e:\n",
    "    print(f\"Error fetching brigade IDs: {e}\")\n",
    "    conn.rollback()\n",
    "\n",
    "for i in range(1, 8):\n",
    "    print(ids[i - 1])"
   ]
  },
  {
   "cell_type": "code",
   "execution_count": null,
   "id": "594063f0",
   "metadata": {},
   "outputs": [],
   "source": [
    "from psycopg2 import Error\n",
    "\n",
    "for i in range(100):\n",
    "    gender = fake.random_element([\"man\", \"woman\"])\n",
    "    child_count = fake.random_int(min=0, max=7)\n",
    "    position_id = fake.random_int(min=2, max=7)\n",
    "    brigade_id = fake.random_element(ids[position_id - 1])\n",
    "    salary = fake.random_int(min=50000, max=200000)\n",
    "    birthday = fake.date_of_birth(minimum_age=18, maximum_age=65)\n",
    "    director = fake.random_element([True, False])\n",
    "    maturation_date = birthday.replace(year=birthday.year + 18)\n",
    "    employment_date = fake.date_between(start_date=maturation_date)\n",
    "\n",
    "    try:\n",
    "        cursor.execute(\n",
    "            \"\"\"\n",
    "            INSERT INTO \"Employees\"(last_name, first_name, gender, child_count, position_id, brigade_id, salary, birthday, director, employment)\n",
    "            VALUES (%s, %s, %s, %s, %s, %s, %s, %s, %s, %s)\n",
    "            \"\"\",\n",
    "            (fake.last_name(), fake.first_name(), gender, child_count, position_id, brigade_id, salary, birthday, director, employment_date)\n",
    "        )\n",
    "        conn.commit()\n",
    "    except (Exception, Error) as e:\n",
    "        print(f\"Error inserting employees: {e}\")\n",
    "        conn.rollback()\n",
    "    \n",
    "print(\"employees inserted\")"
   ]
  },
  {
   "cell_type": "code",
   "execution_count": null,
   "id": "c6e55a08",
   "metadata": {},
   "outputs": [
    {
     "name": "stdout",
     "output_type": "stream",
     "text": [
      "employees inserted\n"
     ]
    }
   ],
   "source": [
    "from psycopg2 import Error\n",
    "from datetime import datetime, timedelta\n",
    "\n",
    "for i in range(1):\n",
    "    gender = fake.random_element([\"man\", \"woman\"])\n",
    "    child_count = fake.random_int(min=0, max=7)\n",
    "    position_id = 1\n",
    "    brigade_id = fake.random_element(ids[0])\n",
    "    salary = fake.random_int(min=50000, max=200000)\n",
    "    birthday = fake.date_of_birth(minimum_age=18, maximum_age=65)\n",
    "    director = fake.random_element([True, False])\n",
    "    today = datetime.today()\n",
    "    one_year_ago = today - timedelta(days=365)\n",
    "    maturation_date = birthday.replace(year=birthday.year + 18)\n",
    "    employment_date = fake.date_between(start_date=maturation_date)\n",
    "\n",
    "    try:\n",
    "        cursor.execute(\n",
    "            \"\"\"\n",
    "            INSERT INTO \"Employees\"(last_name, first_name, gender, child_count, position_id, brigade_id, salary, birthday, director, employment)\n",
    "            VALUES (%s, %s, %s, %s, %s, %s, %s, %s, %s, %s, %s, %s)\n",
    "            \"\"\",\n",
    "            (fake.last_name(), fake.first_name(), gender, child_count, position_id, brigade_id, salary, birthday, director, employment_date)\n",
    "        )\n",
    "        conn.commit()\n",
    "    except (Exception, Error) as e:\n",
    "        print(f\"Error inserting employees: {e}\")\n",
    "        conn.rollback()\n",
    "    \n",
    "print(\"employees inserted\")"
   ]
  },
  {
   "cell_type": "code",
   "execution_count": 6,
   "id": "7b9d6b40",
   "metadata": {},
   "outputs": [
    {
     "name": "stdout",
     "output_type": "stream",
     "text": [
      "plane status inserted\n"
     ]
    }
   ],
   "source": [
    "from psycopg2 import Error\n",
    "\n",
    "plane_status = [\"Ready\", \"In repair\", \"refilling\", \"cleaning\", \"replenishing\"]\n",
    "\n",
    "try:\n",
    "    for status in plane_status:\n",
    "        cursor.execute(\n",
    "            \"\"\"\n",
    "            INSERT INTO \"Plane_status\"(name)\n",
    "            VALUES (%s)\n",
    "            \"\"\",\n",
    "            (status,)\n",
    "        )\n",
    "        conn.commit()\n",
    "except (Exception, Error) as e:\n",
    "    print(f\"Error inserting plane status: {e}\")\n",
    "    conn.rollback()\n",
    "    \n",
    "print(\"plane status inserted\")"
   ]
  },
  {
   "cell_type": "code",
   "execution_count": 12,
   "id": "7cb5c1a4",
   "metadata": {},
   "outputs": [
    {
     "name": "stdout",
     "output_type": "stream",
     "text": [
      "flight types inserted\n"
     ]
    }
   ],
   "source": [
    "flight_types = [\"Internal\", \"International\", \"Charter\", \"Cargo\", \"Special\"]\n",
    "\n",
    "try:\n",
    "    for flight_type in flight_types:\n",
    "        cursor.execute(\n",
    "            \"\"\"\n",
    "            INSERT INTO \"Flight_types\"(name)\n",
    "            VALUES (%s)\n",
    "            \"\"\",\n",
    "            (flight_type,)\n",
    "        )\n",
    "        conn.commit()\n",
    "except (Exception, Error) as e:\n",
    "    print(f\"Error inserting flight types: {e}\")\n",
    "    conn.rollback()\n",
    "    \n",
    "print(\"flight types inserted\")"
   ]
  },
  {
   "cell_type": "code",
   "execution_count": 7,
   "id": "816d4e16",
   "metadata": {},
   "outputs": [
    {
     "name": "stdout",
     "output_type": "stream",
     "text": [
      "flight status inserted\n"
     ]
    }
   ],
   "source": [
    "from psycopg2 import Error\n",
    "\n",
    "flight_status = [\"Delayed due to a malfunction\", \"Delayed due to weather\", \"Canceled\", \"No problem\"]\n",
    "\n",
    "try:\n",
    "    for status in flight_status:\n",
    "        cursor.execute(\n",
    "            \"\"\"\n",
    "            INSERT INTO \"Flight_status\"(name)\n",
    "            VALUES (%s)\n",
    "            \"\"\",\n",
    "            (status,)\n",
    "        )\n",
    "        conn.commit()\n",
    "except (Exception, Error) as e:\n",
    "    print(f\"Error inserting flight status: {e}\")\n",
    "    conn.rollback()\n",
    "    \n",
    "print(\"flight status inserted\")"
   ]
  },
  {
   "cell_type": "code",
   "execution_count": 8,
   "id": "85a040f9",
   "metadata": {},
   "outputs": [
    {
     "name": "stdout",
     "output_type": "stream",
     "text": [
      "ticket status inserted\n"
     ]
    }
   ],
   "source": [
    "from psycopg2 import Error\n",
    "\n",
    "ticket_status = [\"Purchased\", \"Booked\", \"Refunded\", \"Distributed\", \"Canceled\"]\n",
    "\n",
    "try:\n",
    "    for status in ticket_status:\n",
    "        cursor.execute(\n",
    "            \"\"\"\n",
    "            INSERT INTO \"Ticket_status\"(name)\n",
    "            VALUES (%s)\n",
    "            \"\"\",\n",
    "            (status,)\n",
    "        )\n",
    "        conn.commit()\n",
    "except (Exception, Error) as e:\n",
    "    print(f\"Error inserting ticket status: {e}\")\n",
    "    conn.rollback()\n",
    "    \n",
    "print(\"ticket status inserted\")"
   ]
  },
  {
   "cell_type": "code",
   "execution_count": 11,
   "id": "90b8a967",
   "metadata": {},
   "outputs": [
    {
     "name": "stdout",
     "output_type": "stream",
     "text": [
      "passengers inserted\n"
     ]
    }
   ],
   "source": [
    "from psycopg2 import Error\n",
    "\n",
    "try:\n",
    "    for i in range(100):\n",
    "        gender = fake.random_element([\"man\", \"woman\"])\n",
    "        has_visa = fake.random_element([True, False])\n",
    "        birthday = fake.date_of_birth(minimum_age=18, maximum_age=65)\n",
    "        passport_num = generate_passport_number()\n",
    "\n",
    "        cursor.execute(\n",
    "            \"\"\"\n",
    "            INSERT INTO \"Passengers\"(last_name, first_name, gender, passport_number, has_visa, birthday)\n",
    "            VALUES (%s, %s, %s, %s, %s, %s)\n",
    "            \"\"\",\n",
    "            (fake.last_name(), fake.first_name(), gender, passport_num, has_visa, birthday)\n",
    "        )\n",
    "        conn.commit()\n",
    "except (Exception, Error) as e:\n",
    "    print(f\"Error inserting passengers: {e}\")\n",
    "    conn.rollback()\n",
    "\n",
    "print(\"passengers inserted\")"
   ]
  },
  {
   "cell_type": "code",
   "execution_count": 12,
   "id": "8100f786",
   "metadata": {},
   "outputs": [
    {
     "name": "stdout",
     "output_type": "stream",
     "text": [
      "routes inserted\n"
     ]
    }
   ],
   "source": [
    "from psycopg2 import Error\n",
    "\n",
    "try:\n",
    "    for i in range(100):\n",
    "        departure_airport = fake.city()\n",
    "        arrival_airport = fake.city()\n",
    "        stopover = fake.city()\n",
    "\n",
    "        cursor.execute(\n",
    "            \"\"\"\n",
    "            INSERT INTO \"Routes\"(departure_airport, arrival_airport, stopover_airport)\n",
    "            VALUES (%s, %s, %s)\n",
    "            \"\"\",\n",
    "            (departure_airport, arrival_airport, stopover)\n",
    "        )\n",
    "        conn.commit()\n",
    "except (Exception, Error) as e:\n",
    "    print(f\"Error inserting routes: {e}\")\n",
    "    conn.rollback()\n",
    "\n",
    "print(\"routes inserted\")"
   ]
  },
  {
   "cell_type": "code",
   "execution_count": 34,
   "id": "559b56c6",
   "metadata": {},
   "outputs": [
    {
     "name": "stdout",
     "output_type": "stream",
     "text": [
      "Error inserting planes: flights_count_after_last_repair (8), не может быть больше flights_count (7).\n",
      "CONTEXT:  PL/pgSQL function check_flights_count() line 5 at RAISE\n",
      "\n",
      "Error inserting planes: flights_count_after_last_repair (2), не может быть больше flights_count (1).\n",
      "CONTEXT:  PL/pgSQL function check_flights_count() line 5 at RAISE\n",
      "\n",
      "planes inserted\n"
     ]
    }
   ],
   "source": [
    "from psycopg2 import Error\n",
    "from datetime import datetime, timedelta\n",
    "\n",
    "for i in range(100):\n",
    "    model = fake.random_element([\"Boeing 737\", \"Airbus A320\", \"Boeing 747\", \"Airbus A380\", \"Boeing 777\"])\n",
    "    brigade_id = fake.random_element(ids[6])\n",
    "    pilot_brigade_id = fake.random_element(ids[0])\n",
    "    engineer_brigade_id = fake.random_element(ids[2])\n",
    "    flights_count = fake.random_int(min=0, max=100)\n",
    "    repair_count = fake.random_int(min=0, max=10)\n",
    "    flights_count_after_repair = fake.random_int(min=0, max=10)\n",
    "    status_id = fake.random_int(min=1, max=5)\n",
    "    capacity = fake.random_int(min=100, max=500)\n",
    "    today = datetime.today()\n",
    "    ten_year_ago = today - timedelta(days=365*10)\n",
    "    creation_date = fake.date_between(start_date=ten_year_ago, end_date=today)\n",
    "    last_repair_date = fake.date_between(start_date=creation_date, end_date=today)\n",
    "\n",
    "    try:\n",
    "        cursor.execute(\n",
    "            \"\"\"\n",
    "            INSERT INTO \"Planes\"(model, brigade_id, flights_count, repairs_count, last_checkup_date, flights_count_after_last_repair, status, capacity, creation_date, pilot_brigade_id, engineer_brigade_id)\n",
    "            VALUES (%s, %s, %s, %s, %s, %s, %s, %s, %s, %s, %s)\n",
    "            \"\"\",\n",
    "            (model, brigade_id, flights_count, repair_count, last_repair_date, flights_count_after_repair, status_id, capacity, creation_date, pilot_brigade_id, engineer_brigade_id)\n",
    "        )\n",
    "        conn.commit()\n",
    "    except (Exception, Error) as e:\n",
    "        print(f\"Error inserting planes: {e}\")\n",
    "        conn.rollback()\n",
    "\n",
    "print(\"planes inserted\")\n"
   ]
  },
  {
   "cell_type": "code",
   "execution_count": 43,
   "id": "f6b7a7d5",
   "metadata": {},
   "outputs": [
    {
     "name": "stdout",
     "output_type": "stream",
     "text": [
      "Error inserting flights: insert or update on table \"Flights\" violates foreign key constraint \"flights_plane_id_foreign\"\n",
      "DETAIL:  Key (plane_id)=(53) is not present in table \"Planes\".\n",
      "\n",
      "Error inserting flights: insert or update on table \"Flights\" violates foreign key constraint \"flights_plane_id_foreign\"\n",
      "DETAIL:  Key (plane_id)=(53) is not present in table \"Planes\".\n",
      "\n",
      "flights inserted\n"
     ]
    }
   ],
   "source": [
    "from psycopg2 import Error\n",
    "from datetime import datetime, timedelta\n",
    "\n",
    "for i in range(100):\n",
    "    today = datetime.today()\n",
    "    one_year_ago = today - timedelta(days=365)\n",
    "    one_week_ago = today - timedelta(days=7)\n",
    "    one_week_later = today + timedelta(days=7)\n",
    "    one_month_later = today + timedelta(days=30)\n",
    "    plane_id = fake.random_int(min=1, max=90)\n",
    "    flight_type_id = fake.random_int(min=1, max=5)\n",
    "    departure_date = fake.date_between(start_date=today, end_date=one_month_later)\n",
    "    route_id = fake.random_int(min=1, max=100)\n",
    "    ticket_price = fake.random_int(min=1000, max=10000)\n",
    "    max_tickets = fake.random_int(min=50, max=500)\n",
    "    min_tickets = fake.random_int(min=0, max=max_tickets)\n",
    "    status_id = fake.random_int(min=1, max=4)\n",
    "    departure_time = fake.time()\n",
    "    arrival_time = fake.time()\n",
    "\n",
    "    try:\n",
    "        cursor.execute(\n",
    "            \"\"\"\n",
    "            INSERT INTO \"Flights\"(plane_id, flight_type, departure_date, departure_time, arrival_time, route_id, ticket_price, max_tickets_count, min_tickets_count, status)\n",
    "            VALUES (%s, %s, %s, %s, %s, %s, %s, %s, %s, %s)\n",
    "            \"\"\",\n",
    "            (plane_id, flight_type_id, departure_date, departure_time, arrival_time, route_id, ticket_price, max_tickets, min_tickets, status_id)\n",
    "        )\n",
    "        conn.commit()\n",
    "    except (Exception, Error) as e:\n",
    "        print(f\"Error inserting flights: {e}\")\n",
    "        conn.rollback()\n",
    "\n",
    "print(\"flights inserted\")"
   ]
  },
  {
   "cell_type": "code",
   "execution_count": 45,
   "id": "90936cbd",
   "metadata": {},
   "outputs": [
    {
     "name": "stdout",
     "output_type": "stream",
     "text": [
      "Error inserting tickets: insert or update on table \"Tickets\" violates foreign key constraint \"tickets_flight_id_foreign\"\n",
      "DETAIL:  Key (flight_id)=(340) is not present in table \"Flights\".\n",
      "\n",
      "Error inserting tickets: insert or update on table \"Tickets\" violates foreign key constraint \"tickets_flight_id_foreign\"\n",
      "DETAIL:  Key (flight_id)=(340) is not present in table \"Flights\".\n",
      "\n",
      "Error inserting tickets: insert or update on table \"Tickets\" violates foreign key constraint \"tickets_flight_id_foreign\"\n",
      "DETAIL:  Key (flight_id)=(348) is not present in table \"Flights\".\n",
      "\n",
      "tickets inserted\n"
     ]
    }
   ],
   "source": [
    "from psycopg2 import Error\n",
    "from datetime import datetime, timedelta\n",
    "\n",
    "for i in range(100):\n",
    "    flight_id = fake.random_int(min=301, max=400)\n",
    "    passenger_id = fake.random_int(min=1, max=100)\n",
    "    ticket_status_id = fake.random_int(min=1, max=5)\n",
    "    luggage = fake.random_element([True, False])\n",
    "    today = datetime.today()\n",
    "    one_week_ago = today - timedelta(days=7)\n",
    "    status_date = fake.date_between(start_date=one_week_ago, end_date=today)\n",
    "\n",
    "    try:\n",
    "        cursor.execute(\n",
    "            \"\"\"\n",
    "            INSERT INTO \"Tickets\"(flight_id, passenger_id, status, status_date, luggage)\n",
    "            VALUES (%s, %s, %s, %s, %s)\n",
    "            \"\"\",\n",
    "            (flight_id, passenger_id, ticket_status_id, status_date, luggage)\n",
    "        )\n",
    "        conn.commit()\n",
    "    except (Exception, Error) as e:\n",
    "        print(f\"Error inserting tickets: {e}\")\n",
    "        conn.rollback()\n",
    "\n",
    "print(\"tickets inserted\")"
   ]
  },
  {
   "cell_type": "code",
   "execution_count": 46,
   "id": "77a01a34",
   "metadata": {},
   "outputs": [
    {
     "name": "stdout",
     "output_type": "stream",
     "text": [
      "pilot brigade IDs fetched\n",
      "[(554,), (556,), (561,), (565,), (569,), (570,), (571,), (572,), (573,), (574,), (575,), (576,), (577,), (578,), (579,), (580,), (581,), (582,), (583,), (584,)]\n"
     ]
    }
   ],
   "source": [
    "from psycopg2 import Error\n",
    "\n",
    "try: \n",
    "    cursor.execute(\n",
    "        \"\"\"\n",
    "        SELECT e.id\n",
    "        FROM \"Employees\" e\n",
    "        WHERE position_id = %s\n",
    "        \"\"\",\n",
    "        (1, )\n",
    "    )\n",
    "    \n",
    "    pilot_ids = cursor.fetchall()\n",
    "except (Exception, Error) as e:\n",
    "    print(f\"Error fetching brigade IDs: {e}\")\n",
    "    conn.rollback()\n",
    "\n",
    "print(\"pilot brigade IDs fetched\")\n",
    "print(pilot_ids)"
   ]
  },
  {
   "cell_type": "code",
   "execution_count": 47,
   "id": "3e482a34",
   "metadata": {},
   "outputs": [
    {
     "name": "stdout",
     "output_type": "stream",
     "text": [
      "pilot medical checks inserted\n"
     ]
    }
   ],
   "source": [
    "from psycopg2 import Error\n",
    "from datetime import datetime, timedelta\n",
    "\n",
    "for i in range(100):\n",
    "    today = datetime.today()\n",
    "    twelve_years_ago = today - timedelta(days=365 * 12)\n",
    "    employee_id = fake.random_element(pilot_ids)\n",
    "    medical_check_date = fake.date_between(start_date=twelve_years_ago, end_date=today)\n",
    "\n",
    "    try:\n",
    "        cursor.execute(\n",
    "            \"\"\"\n",
    "            INSERT INTO \"Pilots_medical_check\"(employee_id, medical_check_date)\n",
    "            VALUES (%s, %s)\n",
    "            \"\"\",\n",
    "            (employee_id, medical_check_date)\n",
    "        )\n",
    "        conn.commit()\n",
    "    except (Exception, Error) as e:\n",
    "        print(f\"Error inserting pilot medical checks: {e}\")\n",
    "        conn.rollback()\n",
    "\n",
    "print(\"pilot medical checks inserted\")"
   ]
  },
  {
   "cell_type": "code",
   "execution_count": 48,
   "id": "1bd1fb2c",
   "metadata": {},
   "outputs": [
    {
     "name": "stdout",
     "output_type": "stream",
     "text": [
      "Error inserting airports: insert or update on table \"Plane_places\" violates foreign key constraint \"plane_places_plane_id_foreign\"\n",
      "DETAIL:  Key (plane_id)=(0) is not present in table \"Planes\".\n",
      "\n",
      "Error inserting airports: insert or update on table \"Plane_places\" violates foreign key constraint \"plane_places_plane_id_foreign\"\n",
      "DETAIL:  Key (plane_id)=(53) is not present in table \"Planes\".\n",
      "\n",
      "Error inserting airports: insert or update on table \"Plane_places\" violates foreign key constraint \"plane_places_plane_id_foreign\"\n",
      "DETAIL:  Key (plane_id)=(85) is not present in table \"Planes\".\n",
      "\n",
      "airports inserted\n"
     ]
    }
   ],
   "source": [
    "from psycopg2 import Error\n",
    "\n",
    "for i in range(100):\n",
    "    place = fake.city()\n",
    "\n",
    "    try:\n",
    "        cursor.execute(\n",
    "            \"\"\"\n",
    "            INSERT INTO \"Plane_places\"(plane_id, place)\n",
    "            VALUES (%s, %s)\n",
    "            \"\"\",\n",
    "            (i, place)\n",
    "        )\n",
    "        conn.commit()\n",
    "    except (Exception, Error) as e:\n",
    "        print(f\"Error inserting airports: {e}\")\n",
    "        conn.rollback()\n",
    "\n",
    "print(\"airports inserted\")"
   ]
  }
 ],
 "metadata": {
  "kernelspec": {
   "display_name": "Python 3 (ipykernel)",
   "language": "python",
   "name": "python3"
  },
  "language_info": {
   "codemirror_mode": {
    "name": "ipython",
    "version": 3
   },
   "file_extension": ".py",
   "mimetype": "text/x-python",
   "name": "python",
   "nbconvert_exporter": "python",
   "pygments_lexer": "ipython3",
   "version": "3.12.3"
  }
 },
 "nbformat": 4,
 "nbformat_minor": 5
}
